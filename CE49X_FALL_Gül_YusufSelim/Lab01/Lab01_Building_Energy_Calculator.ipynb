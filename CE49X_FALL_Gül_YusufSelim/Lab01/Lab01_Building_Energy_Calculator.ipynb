{
 "cells": [
  {
   "cell_type": "markdown",
   "id": "07a8200c",
   "metadata": {},
   "source": [
    "# Lab 01 – Building Energy Calculator\n",
    "This notebook covers Exercises 1–5 and a bonus interactive tool. Each step includes explanations and commented Python code."
   ]
  },
  {
   "cell_type": "markdown",
   "id": "345a0d0d",
   "metadata": {},
   "source": [
    "## Exercise 1 – Energy Consumption Basics"
   ]
  },
  {
   "cell_type": "code",
   "execution_count": null,
   "id": "58aae9d9",
   "metadata": {},
   "outputs": [
    {
     "name": "stdout",
     "output_type": "stream",
     "text": [
      "Total Daily: 2180.0 kWh\n",
      "Monthly: 65400.0 kWh\n",
      "In MJ: 235440.0 | In GJ: 235.44\n",
      "Monthly cost: 7848.0 USD | Annual cost: 94176.0 USD\n"
     ]
    }
   ],
   "source": [
    "\n",
    "# --- Exercise 1: Energy Consumption Basics ---\n",
    "\n",
    "lighting_kwh = 450.0\n",
    "hvac_kwh = 1200.0\n",
    "equipment_kwh = 350.0\n",
    "other_kwh = 180.0\n",
    "\n",
    "total_daily_kwh = lighting_kwh + hvac_kwh + equipment_kwh + other_kwh\n",
    "monthly_kwh = total_daily_kwh * 30\n",
    "\n",
    "print(\"Total Daily:\", total_daily_kwh, \"kWh\")\n",
    "print(\"Monthly:\", monthly_kwh, \"kWh\")\n",
    "# Calculating daily and monthly consumption in kw/h\n",
    "monthly_mj = monthly_kwh * 3.6\n",
    "monthly_gj = monthly_mj / 1000\n",
    "print(\"In MJ:\", monthly_mj, \"| In GJ:\", monthly_gj)\n",
    "\n",
    "rate = 0.12\n",
    "monthly_cost = monthly_kwh * rate\n",
    "annual_cost = monthly_cost * 12\n",
    "print(\"Monthly cost:\", monthly_cost, \"USD | Annual cost:\", annual_cost, \"USD\")\n",
    "\n",
    "#Converting kw/h to MJ, GJ and calculating the annual cost of the consumption\n"
   ]
  },
  {
   "cell_type": "markdown",
   "id": "c9ef5557",
   "metadata": {},
   "source": [
    "## Exercise 2 – Building Energy Analysis"
   ]
  },
  {
   "cell_type": "code",
   "execution_count": null,
   "id": "8cbe0615",
   "metadata": {},
   "outputs": [
    {
     "name": "stdout",
     "output_type": "stream",
     "text": [
      "Office A: 85000 kWh / 2500 m² = 34.00 kWh/m²/month\n",
      "Retail B: 62000 kWh / 1800 m² = 34.44 kWh/m²/month\n",
      "School C: 48000 kWh / 3200 m² = 15.00 kWh/m²/month\n",
      "Hospital D: 125000 kWh / 4000 m² = 31.25 kWh/m²/month\n",
      "Apartment E: 71000 kWh / 2800 m² = 25.36 kWh/m²/month\n",
      "\n",
      "Total monthly: 391,000 kWh\n",
      "Average monthly: 78,200.00 kWh\n",
      "\n",
      "There are 2 buildings above average and they are ['Office A', 'Hospital D']\n",
      "Maximum consumption: 125000 kWh\n",
      "Minimum consumption: 48000 kWh\n"
     ]
    }
   ],
   "source": [
    "\n",
    "buildings = ['Office A', 'Retail B', 'School C', 'Hospital D', 'Apartment E']\n",
    "monthly_consumption = [85000, 62000, 48000, 125000, 71000]\n",
    "floor_area = [2500, 1800, 3200, 4000, 2800]\n",
    "\n",
    "energy_intensity = [] \n",
    "\n",
    "for i, name in enumerate(buildings):\n",
    "    intensity = monthly_consumption[i] / floor_area[i]\n",
    "    energy_intensity.append(intensity)\n",
    "    print(f\"{name}: {monthly_consumption[i]} kWh / {floor_area[i]} m² = {intensity:.2f} kWh/m²/month\")\n",
    "\n",
    "# Calculating energy intensity of the buildings using for loop.\n",
    "\n",
    "total_monthly = sum(monthly_consumption)\n",
    "avg_monthly = total_monthly / len(monthly_consumption)\n",
    "print(f\"\\nTotal monthly: {total_monthly:,} kWh\")\n",
    "print(f\"Average monthly: {avg_monthly:,.2f} kWh\")\n",
    "\n",
    "above_avg = [buildings[i] for i, val in enumerate(monthly_consumption) if val > avg_monthly]\n",
    "print(\"\\nThere are\", len(above_avg),\"buildings above average and they are\" , above_avg)\n",
    "\n",
    "max_consumption =max(monthly_consumption)\n",
    "min_consumption =min(monthly_consumption)\n",
    "\n",
    "print(f\"Maximum consumption: {max_consumption} kWh\")\n",
    "print(f\"Minimum consumption: {min_consumption} kWh\")\n",
    "\n",
    "# Calculating average,minimum and maximum energy densities\n"
   ]
  },
  {
   "cell_type": "markdown",
   "id": "7c7eb8e7",
   "metadata": {},
   "source": [
    "## Exercise 3 – Energy Efficiency Classifier"
   ]
  },
  {
   "cell_type": "code",
   "execution_count": null,
   "id": "603a33e5",
   "metadata": {},
   "outputs": [
    {
     "name": "stdout",
     "output_type": "stream",
     "text": [
      "Office A: 408.0 kWh/m²/year\n",
      "Retail B: 413.3 kWh/m²/year\n",
      "School C: 180.0 kWh/m²/year\n",
      "Hospital D: 375.0 kWh/m²/year\n",
      "Apartment E: 304.3 kWh/m²/year\n",
      "Office A: 408.0 kWh/m²/year → Rating F\n",
      "Retail B: 413.3 kWh/m²/year → Rating F\n",
      "School C: 180.0 kWh/m²/year → Rating D\n",
      "Hospital D: 375.0 kWh/m²/year → Rating F\n",
      "Apartment E: 304.3 kWh/m²/year → Rating F\n",
      "There are 0 buildings with rating A\n",
      "There are 0 buildings with rating B\n",
      "There are 0 buildings with rating C\n",
      "There are 1 buildings with rating D\n",
      "There are 0 buildings with rating E\n",
      "There are 4 buildings with rating F\n",
      "The most common rating is F with rating 4\n"
     ]
    }
   ],
   "source": [
    "\n",
    "annual_intensity = [val * 12 for val in energy_intensity]\n",
    "\n",
    "for name, val in zip(buildings, annual_intensity):\n",
    "    print(f\"{name}: {val:.1f} kWh/m²/year\")\n",
    "\n",
    "def classify_rating(kwh_m2_year):\n",
    "    if kwh_m2_year < 50: return 'A'\n",
    "    elif kwh_m2_year < 100: return 'B'\n",
    "    elif kwh_m2_year < 150: return 'C'\n",
    "    elif kwh_m2_year < 200: return 'D'\n",
    "    else: return 'F'\n",
    "\n",
    "ratings = [classify_rating(v) for v in annual_intensity]\n",
    "\n",
    "for name, val, r in zip(buildings, annual_intensity, ratings):\n",
    "    print(f\"{name}: {val:.1f} kWh/m²/year → Rating {r}\")\n",
    "\n",
    "# Calculating annual intensity of the buildings and rating their performence\n",
    "\n",
    "def count_ratings(ratings):\n",
    "    count_of_ratings_A = 0\n",
    "    count_of_ratings_B = 0\n",
    "    count_of_ratings_C = 0\n",
    "    count_of_ratings_D = 0\n",
    "    count_of_ratings_E = 0\n",
    "    count_of_ratings_F = 0\n",
    "\n",
    "    for r in ratings:\n",
    "        if r == 'A':\n",
    "            count_of_ratings_A += 1\n",
    "        elif r == 'B':\n",
    "            count_of_ratings_B += 1\n",
    "        elif r == 'C':\n",
    "            count_of_ratings_C += 1\n",
    "        elif r == 'D':\n",
    "            count_of_ratings_D += 1\n",
    "        elif r == 'E':\n",
    "            count_of_ratings_E += 1\n",
    "        elif r == 'F':\n",
    "            count_of_ratings_F += 1\n",
    "    \n",
    "    return {\n",
    "        'A': count_of_ratings_A,\n",
    "        'B': count_of_ratings_B,\n",
    "        'C': count_of_ratings_C,\n",
    "        'D': count_of_ratings_D,\n",
    "        'E': count_of_ratings_E,\n",
    "        'F': count_of_ratings_F\n",
    "    }\n",
    "\n",
    "rating_counts = count_ratings(ratings)\n",
    "\n",
    "for rating, count in rating_counts.items():\n",
    "    print(f\"There are {count} buildings with rating {rating}\")\n",
    "\n",
    "print(f\"The most common rating is {max(rating_counts, key=rating_counts.get)} with rating {max(rating_counts.values())}\")\n",
    "\n",
    "# Finding the most common rating by count function"
   ]
  },
  {
   "cell_type": "markdown",
   "id": "bb2ad788",
   "metadata": {},
   "source": [
    "## Exercise 4 – Energy Cost Calculator"
   ]
  },
  {
   "cell_type": "code",
   "execution_count": null,
   "id": "8e62352f",
   "metadata": {},
   "outputs": [
    {
     "name": "stdout",
     "output_type": "stream",
     "text": [
      "Test: 6000.0\n",
      "The Peak Cost is 7650 USD\n",
      "The Off Cost is 2720 USD\n",
      "The Total Cost is 10370 USD\n"
     ]
    }
   ],
   "source": [
    "\n",
    "def calculate_monthly_cost(kwh, rate):\n",
    "    return kwh * rate\n",
    "\n",
    "def calculate_tiered_cost(total_kwh, peak_ratio=0.6):\n",
    "    peak_rate, off_rate = 0.15, 0.08\n",
    "    peak_kwh = total_kwh * peak_ratio\n",
    "    off_kwh = total_kwh * (1 - peak_ratio)\n",
    "    peak_cost = peak_kwh * peak_rate \n",
    "    off_cost = off_kwh * off_rate\n",
    "    total = peak_cost + off_cost\n",
    "    return peak_cost, off_cost, total\n",
    "\n",
    "# Calculating total, off and peak cost with given peak,off rates.\n",
    "\n",
    "print(\"Test:\", calculate_monthly_cost(50000, 0.12))\n",
    "tiered_example = calculate_tiered_cost(85000, 0.6)\n",
    "print(\"The Peak Cost is\", int(tiered_example[0]), \"USD\")\n",
    "print(\"The Off Cost is\", int(tiered_example[1]), \"USD\")\n",
    "print(\"The Total Cost is\", int(tiered_example[2]), \"USD\")\n"
   ]
  },
  {
   "cell_type": "markdown",
   "id": "f1647d83",
   "metadata": {},
   "source": [
    "## Exercise 5 – Energy Optimization"
   ]
  },
  {
   "cell_type": "code",
   "execution_count": null,
   "id": "1b04f7cc",
   "metadata": {},
   "outputs": [
    {
     "name": "stdout",
     "output_type": "stream",
     "text": [
      "Most efficient: School C with intensity 180.00 kWh/m²/year and their rating is D\n",
      "Least efficient: Retail B with intensity 413.33 kWh/m²/year and their rating is F\n",
      "\n",
      "If all buildings achieved Rating B (100 kWh/m²/year):\n",
      "Office A: Could save 770,000 kWh/year\n",
      "Retail B: Could save 564,000 kWh/year\n",
      "School C: Could save 256,000 kWh/year\n",
      "Hospital D: Could save 1,100,000 kWh/year\n",
      "Apartment E: Could save 572,000 kWh/year\n",
      "\n",
      "Total Potential Savings: 3,262,000 kWh/year\n",
      "Annual Cost Savings: $391,440.00\n"
     ]
    }
   ],
   "source": [
    "\n",
    "most_idx = annual_intensity.index(min(annual_intensity))\n",
    "least_idx = annual_intensity.index(max(annual_intensity))\n",
    "\n",
    "print(\"Most efficient:\", buildings[most_idx],\"with intensity\", f\"{annual_intensity[most_idx]:.2f}\", \"kWh/m²/year and their rating is\", ratings[most_idx])\n",
    "print(\"Least efficient:\", buildings[least_idx],\"with intensity\", f\"{annual_intensity[least_idx]:.2f}\", \"kWh/m²/year and their rating is\", ratings[least_idx])\n",
    "\n",
    "# Finding the most and least efficient building\n",
    "\n",
    "target = 100\n",
    "savings_kwh = 0\n",
    "savings_report = []\n",
    "total_savings_kwh = 0\n",
    "\n",
    "for i, val in enumerate(annual_intensity):\n",
    "    if val > target:\n",
    "        current_annual = val * floor_area[i]\n",
    "        target_annual = target * floor_area[i]\n",
    "        saving = current_annual - target_annual\n",
    "        savings_report.append((buildings[i], saving))\n",
    "        total_savings_kwh += saving\n",
    "\n",
    "# Calculating how much energy we could have saved if all off the buildings were Rating B\n",
    "\n",
    "annual_cost_savings = total_savings_kwh * 0.12\n",
    "\n",
    "\n",
    "print(f\"\\nIf all buildings achieved Rating B (100 kWh/m²/year):\")\n",
    "\n",
    "for name, saving in savings_report:\n",
    "    print(f\"{name}: Could save {saving:,.0f} kWh/year\")\n",
    "\n",
    "print(f\"\\nTotal Potential Savings: {total_savings_kwh:,.0f} kWh/year\")\n",
    "print(f\"Annual Cost Savings: ${annual_cost_savings:,.2f}\")\n",
    "\n",
    "# Calculating the annual cost savings\n"
   ]
  },
  {
   "cell_type": "markdown",
   "id": "5da028cb",
   "metadata": {},
   "source": [
    "## Bonus – Interactive Energy Calculator"
   ]
  },
  {
   "cell_type": "code",
   "execution_count": null,
   "id": "7c0e41bb",
   "metadata": {},
   "outputs": [],
   "source": [
    "#Defining the necessary functions we defined earlier\n",
    "def classify_rating(kwh_m2_year):\n",
    "    if kwh_m2_year < 50: return 'A'\n",
    "    elif kwh_m2_year < 100: return 'B'\n",
    "    elif kwh_m2_year < 150: return 'C'\n",
    "    elif kwh_m2_year < 200: return 'D'\n",
    "    else: return 'F'\n",
    "\n",
    "def calculate_tiered_cost(total_kwh, peak_ratio=0.6):\n",
    "    peak_rate, off_rate = 0.15, 0.08\n",
    "    peak_kwh = total_kwh * peak_ratio\n",
    "    off_kwh = total_kwh * (1 - peak_ratio)\n",
    "    peak_cost = peak_kwh * peak_rate \n",
    "    off_cost = off_kwh * off_rate\n",
    "    total = peak_cost + off_cost\n",
    "    return total\n",
    "\n",
    "print(\"=== Interactive Building Energy Analysis ===\")\n",
    "print(\"Enter building data to get detailed analysis. Type 'quit' to exit.\\n\")\n",
    "\n",
    "while True:\n",
    "    # Getting building name\n",
    "    name = input(\"Enter building name (or 'quit' to exit): \")\n",
    "    if name.lower() == 'quit':\n",
    "        print(\"Thank you for using the Building Energy Calculator!\")\n",
    "        break\n",
    "    \n",
    "    # Getting monthly consumption with error handling\n",
    "    while True:\n",
    "        try:\n",
    "            monthly = float(input(\"Enter monthly consumption (kWh): \"))\n",
    "            if monthly < 0:\n",
    "                print(\"Please enter a positive number for consumption.\")\n",
    "                continue\n",
    "            break\n",
    "        except ValueError:\n",
    "            print(\"Invalid input! Please enter a valid number for consumption.\")\n",
    "    \n",
    "    # Getting floor area with error handling\n",
    "    while True:\n",
    "        try:\n",
    "            area = float(input(\"Enter floor area (m²): \"))\n",
    "            if area <= 0:\n",
    "                print(\"Please enter a positive number for floor area.\")\n",
    "                continue\n",
    "            break\n",
    "        except ValueError:\n",
    "            print(\"Invalid input! Please enter a valid number for floor area.\")\n",
    "    \n",
    "    # Calculating metrics\n",
    "    intensity = (monthly / area) * 12\n",
    "    rating = classify_rating(intensity)\n",
    "    monthly_cost = calculate_tiered_cost(monthly)\n",
    "    \n",
    "    # Print formatted report\n",
    "    print(f\"\\n=== Analysis for {name} ===\")\n",
    "    print(f\"Monthly Consumption: {monthly:,.0f} kWh\")\n",
    "    print(f\"Floor Area: {area:,.0f} m²\")\n",
    "    print(f\"Energy Intensity: {intensity:.2f} kWh/m²/year\")\n",
    "    print(f\"Efficiency Rating: {rating}\")\n",
    "    print(f\"Monthly Cost (tiered): ${monthly_cost:,.2f}\")\n",
    "    print(\"-\" * 40)\n"
   ]
  }
 ],
 "metadata": {
  "kernelspec": {
   "display_name": "Python 3",
   "language": "python",
   "name": "python3"
  },
  "language_info": {
   "codemirror_mode": {
    "name": "ipython",
    "version": 3
   },
   "file_extension": ".py",
   "mimetype": "text/x-python",
   "name": "python",
   "nbconvert_exporter": "python",
   "pygments_lexer": "ipython3",
   "version": "3.8.10"
  }
 },
 "nbformat": 4,
 "nbformat_minor": 5
}
